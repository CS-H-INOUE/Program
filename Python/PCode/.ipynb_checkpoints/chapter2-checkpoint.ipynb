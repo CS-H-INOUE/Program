{
 "cells": [
  {
   "cell_type": "code",
   "execution_count": 1,
   "id": "96de97ff-0470-4649-b3cc-4f04c33ae6bd",
   "metadata": {},
   "outputs": [],
   "source": [
    "from datetime import datetime"
   ]
  },
  {
   "cell_type": "code",
   "execution_count": 2,
   "id": "4c6a5b70-27a7-40f5-b525-9139587f6c1b",
   "metadata": {},
   "outputs": [],
   "source": [
    "dt = datetime.strptime('2023/08/13', '%Y/%m/%d')"
   ]
  },
  {
   "cell_type": "code",
   "execution_count": 3,
   "id": "93f012b8-5d94-4790-a8ca-704ec643820d",
   "metadata": {},
   "outputs": [
    {
     "data": {
      "text/plain": [
       "datetime.datetime(2023, 8, 13, 0, 0)"
      ]
     },
     "execution_count": 3,
     "metadata": {},
     "output_type": "execute_result"
    }
   ],
   "source": [
    "dt"
   ]
  },
  {
   "cell_type": "code",
   "execution_count": 4,
   "id": "453893bf-e524-4ac4-903e-3d4564c39959",
   "metadata": {},
   "outputs": [],
   "source": [
    "WEEKDAY = {0:'Monday', 1: 'Tuesday', 2:'Wednsday', 3:'Thursday',4:'Friday',5:'Saturday',6:'Sunday'}"
   ]
  },
  {
   "cell_type": "code",
   "execution_count": 5,
   "id": "858d8c56-461b-4dfa-8fc2-f90f8edb9e7b",
   "metadata": {},
   "outputs": [
    {
     "data": {
      "text/plain": [
       "{0: 'Monday',\n",
       " 1: 'Tuesday',\n",
       " 2: 'Wednsday',\n",
       " 3: 'Thursday',\n",
       " 4: 'Friday',\n",
       " 5: 'Saturday',\n",
       " 6: 'Sunday'}"
      ]
     },
     "execution_count": 5,
     "metadata": {},
     "output_type": "execute_result"
    }
   ],
   "source": [
    "WEEKDAY"
   ]
  },
  {
   "cell_type": "code",
   "execution_count": 6,
   "id": "f56ffec2-5a67-489e-9c12-15de83f48482",
   "metadata": {},
   "outputs": [
    {
     "name": "stdout",
     "output_type": "stream",
     "text": [
      "0: Monday\n",
      "1: Tuesday\n",
      "2: Wednsday\n",
      "3: Thursday\n",
      "4: Friday\n",
      "5: Saturday\n",
      "6: Sunday\n"
     ]
    }
   ],
   "source": [
    "for i,j in WEEKDAY.items():\n",
    "    print(f'{i}: {j}')"
   ]
  },
  {
   "cell_type": "code",
   "execution_count": 7,
   "id": "8af38e2f-2b17-4cf6-b594-24fde93c3536",
   "metadata": {},
   "outputs": [
    {
     "data": {
      "text/plain": [
       "'Sunday'"
      ]
     },
     "execution_count": 7,
     "metadata": {},
     "output_type": "execute_result"
    }
   ],
   "source": [
    "def get_day_of_week(date_str):\n",
    "    dt = datetime.strptime(date_str, '%Y/%m/%d')\n",
    "    return WEEKDAY[dt.weekday()]\n",
    "get_day_of_week('2023/08/13')"
   ]
  },
  {
   "cell_type": "code",
   "execution_count": null,
   "id": "216d5455-e135-4460-bee6-40cd8fea84ee",
   "metadata": {},
   "outputs": [],
   "source": []
  }
 ],
 "metadata": {
  "kernelspec": {
   "display_name": "Python 3 (ipykernel)",
   "language": "python",
   "name": "python3"
  },
  "language_info": {
   "codemirror_mode": {
    "name": "ipython",
    "version": 3
   },
   "file_extension": ".py",
   "mimetype": "text/x-python",
   "name": "python",
   "nbconvert_exporter": "python",
   "pygments_lexer": "ipython3",
   "version": "3.11.4"
  }
 },
 "nbformat": 4,
 "nbformat_minor": 5
}
